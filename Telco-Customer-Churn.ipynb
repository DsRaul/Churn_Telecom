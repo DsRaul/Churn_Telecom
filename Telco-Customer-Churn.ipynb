{
  "nbformat": 4,
  "nbformat_minor": 0,
  "metadata": {
    "colab": {
      "provenance": [],
      "collapsed_sections": []
    },
    "kernelspec": {
      "name": "python3",
      "display_name": "Python 3"
    },
    "language_info": {
      "name": "python"
    }
  },
  "cells": [
    {
      "cell_type": "markdown",
      "source": [
        "#Perdida de clientes de telecomunicaciones"
      ],
      "metadata": {
        "id": "CJrQl9ApWn_e"
      }
    },
    {
      "cell_type": "markdown",
      "source": [
        "Prediga el comportamiento para retener a los clientes. Puede analizar todos los datos relevantes de los clientes y desarrollar programas específicos de retención de clientes."
      ],
      "metadata": {
        "id": "Fye3m0JlWSN7"
      }
    },
    {
      "cell_type": "markdown",
      "source": [
        "### 1.- IMPORTACION DE DATOS Y CARGA DE DATOS"
      ],
      "metadata": {
        "id": "6nLqzX3iXTX_"
      }
    },
    {
      "cell_type": "code",
      "source": [
        "import pandas as pd\n",
        "import numpy as np\n",
        "import requests\n",
        "import matplotlib as mpl\n",
        "import matplotlib.pyplot as plt\n",
        "import seaborn as sb"
      ],
      "metadata": {
        "id": "tvkclqWpYhmp"
      },
      "execution_count": 5,
      "outputs": []
    },
    {
      "cell_type": "markdown",
      "source": [
        "### 2.- ANALISIS EXPLORATORIO"
      ],
      "metadata": {
        "id": "wHonvr1aYCJS"
      }
    },
    {
      "cell_type": "markdown",
      "source": [
        "### 3.- CREACION DE VARIABLES"
      ],
      "metadata": {
        "id": "1OjkSKeMYI9d"
      }
    },
    {
      "cell_type": "markdown",
      "source": [
        "### 3.- ANALISIS"
      ],
      "metadata": {
        "id": "QSywh9QNYPtA"
      }
    },
    {
      "cell_type": "code",
      "source": [],
      "metadata": {
        "id": "BcSUUALnWRzc"
      },
      "execution_count": null,
      "outputs": []
    },
    {
      "cell_type": "code",
      "execution_count": null,
      "metadata": {
        "id": "_Y16qkPP0Xap"
      },
      "outputs": [],
      "source": [
        "link = https://drive.google.com/file/d/1GosPkQhWVq6blE0zYk_U5QUl7u-CUfNw/view?usp=sharing"
      ]
    }
  ]
}